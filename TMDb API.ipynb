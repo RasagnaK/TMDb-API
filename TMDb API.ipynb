{
 "cells": [
  {
   "cell_type": "markdown",
   "id": "32d2c240",
   "metadata": {},
   "source": [
    "## TMDb API"
   ]
  },
  {
   "cell_type": "markdown",
   "id": "6853f021",
   "metadata": {},
   "source": [
    "TMDb API enables you to find out the latest information about TV Shows, Movies and the biggest names in entertainment sector for a marvelous and fun TV/Movie watching experience.By collecting the data using TMDb API one can recommend TV Shows, Movies and all sorts of entertainment on the basis of user’s affinity to specific genres, actors, likes and dislikes.\n",
    "We can find details about upcoming TV Shows and Movies.\n",
    "We can find what is the most popular and/ or exclusive/new content at a given time."
   ]
  },
  {
   "cell_type": "markdown",
   "id": "87adf08e",
   "metadata": {},
   "source": [
    "#### Finding the 'id' of the movie \"Andhadhun\" using TMDb API."
   ]
  },
  {
   "cell_type": "code",
   "execution_count": 2,
   "id": "c065b78a",
   "metadata": {},
   "outputs": [
    {
     "name": "stdout",
     "output_type": "stream",
     "text": [
      "534780\n"
     ]
    }
   ],
   "source": [
    "import requests\n",
    "import json\n",
    "url='https://api.themoviedb.org/3/search/movie'\n",
    "data = {'query':'Andhadhun', 'api_key':'c00de043202cae9d9e2b23d857265b1c'}\n",
    "response = requests.get(url,params=data)\n",
    "data=json.loads(response.text)\n",
    "result=data['results']\n",
    "print(result[0]['id'])\n"
   ]
  },
  {
   "cell_type": "markdown",
   "id": "42b75549",
   "metadata": {},
   "source": [
    "#### Fetching & printing the company id of company 'Marvel Studios' using TMDb."
   ]
  },
  {
   "cell_type": "code",
   "execution_count": 1,
   "id": "97deed3e",
   "metadata": {},
   "outputs": [
    {
     "name": "stdout",
     "output_type": "stream",
     "text": [
      "420\n"
     ]
    }
   ],
   "source": [
    "import requests\n",
    "import json\n",
    "url='https://api.themoviedb.org/3/search/company'\n",
    "data = {'query':'Marvel Studios', 'api_key':'c00de043202cae9d9e2b23d857265b1c'}\n",
    "response = requests.get(url,params=data)\n",
    "data=json.loads(response.text)\n",
    "print(data['results'][0]['id'])"
   ]
  },
  {
   "cell_type": "markdown",
   "id": "0ece640b",
   "metadata": {},
   "source": [
    "#### Finding the vote count and vote average of the movie \"3 Idiots\" using the TMDb API"
   ]
  },
  {
   "cell_type": "code",
   "execution_count": 3,
   "id": "311f951f",
   "metadata": {},
   "outputs": [
    {
     "name": "stdout",
     "output_type": "stream",
     "text": [
      "2099 7.988\n"
     ]
    }
   ],
   "source": [
    "import requests\n",
    "import json\n",
    "url='https://api.themoviedb.org/3/search/movie'\n",
    "data = {'query':'3 Idiots','api_key':'c00de043202cae9d9e2b23d857265b1c'}\n",
    "response = requests.get(url,params=data)\n",
    "data=json.loads(response.text)\n",
    "print(data['results'][0]['vote_count'],data['results'][0]['vote_average'])\n",
    "\n"
   ]
  },
  {
   "cell_type": "markdown",
   "id": "beb21c88",
   "metadata": {},
   "source": [
    "#### Fetching the names of top 5 similar movies to 'Inception' from the TMDb API."
   ]
  },
  {
   "cell_type": "code",
   "execution_count": 4,
   "id": "7e02756d",
   "metadata": {},
   "outputs": [
    {
     "name": "stdout",
     "output_type": "stream",
     "text": [
      "Spies in Disguise\n",
      "Je ne suis pas là pour être aimé\n",
      "Transamerica\n",
      "Absolut\n",
      "Apollo 13\n"
     ]
    }
   ],
   "source": [
    "import requests\n",
    "import json\n",
    "url='https://api.themoviedb.org/3/movie/27205/similar'\n",
    "data = {'api_key':'c00de043202cae9d9e2b23d857265b1c'}\n",
    "response = requests.get(url,params=data)\n",
    "#print(response.url)\n",
    "data=json.loads(response.text)\n",
    "data1=data['results']\n",
    "for i in data1[0:5]:\n",
    "    print(i['original_title'])\n"
   ]
  },
  {
   "cell_type": "markdown",
   "id": "6b31e670",
   "metadata": {},
   "source": [
    "#### Fetching and printing the top rated 10 movies in US Region whose original language is english along with their genres."
   ]
  },
  {
   "cell_type": "code",
   "execution_count": 8,
   "id": "b79db0a6",
   "metadata": {},
   "outputs": [
    {
     "name": "stdout",
     "output_type": "stream",
     "text": [
      "The Godfather - Drama, Crime, \n",
      "The Shawshank Redemption - Drama, Crime, \n",
      "The Godfather Part II - Drama, Crime, \n",
      "Schindler's List - Drama, History, War, \n",
      "Spider-Man: Across the Spider-Verse - Action, Adventure, Animation, Science Fiction, \n",
      "12 Angry Men - Drama, \n",
      "The Green Mile - Fantasy, Drama, Crime, \n",
      "The Dark Knight - Drama, Action, Crime, Thriller, \n",
      "Pulp Fiction - Thriller, Crime, \n",
      "Forrest Gump - Comedy, Drama, Romance, \n"
     ]
    }
   ],
   "source": [
    "import requests\n",
    "import json\n",
    "data = {'api_key':'c00de043202cae9d9e2b23d857265b1c'}\n",
    "\n",
    "response2 = requests.get('https://api.themoviedb.org/3/movie/top_rated', params=data)\n",
    "data2 = response2.json()\n",
    "results2 = data2.get('results')\n",
    "title_array = [] \n",
    "genre_id_array = [] \n",
    "for result in results2: \n",
    "    if result.get('original_language') == 'en': \n",
    "        title_array.append(result.get('title')) \n",
    "        genre_id_array.append(result.get('genre_ids')) \n",
    "\n",
    "\n",
    "response3 = requests.get('https://api.themoviedb.org/3/genre/movie/list',params=data)\n",
    "data3 = response3.json()\n",
    "genres = data3.get('genres')\n",
    "mapping ={}\n",
    "for genre in genres:\n",
    "    mapping[genre.get('id')] = genre.get('name')\n",
    "for i in range(10):\n",
    "    print(title_array[i],\"-\",end=\" \")\n",
    "    for id in genre_id_array[i]:\n",
    "         print(mapping.get(id),end = \", \")\n",
    "    print()\n",
    "    "
   ]
  },
  {
   "cell_type": "markdown",
   "id": "ac021785",
   "metadata": {},
   "source": [
    "#### Finding the name and birthplace of the present most popular person according to TMDb API."
   ]
  },
  {
   "cell_type": "code",
   "execution_count": 9,
   "id": "ffc95f14",
   "metadata": {},
   "outputs": [
    {
     "name": "stdout",
     "output_type": "stream",
     "text": [
      "2710789\n",
      "Seung Ha - South Korea\n"
     ]
    }
   ],
   "source": [
    "import requests\n",
    "import json\n",
    "url='https://api.themoviedb.org/3/person/2710789'\n",
    "data = {'api_key':'c00de043202cae9d9e2b23d857265b1c'}\n",
    "response = requests.get(url,params=data)\n",
    "#print(response.url)\n",
    "data=json.loads(response.text)\n",
    "print(2710789)\n",
    "print(data['name'],'-',data['place_of_birth'])\n"
   ]
  },
  {
   "cell_type": "markdown",
   "id": "1b62456b",
   "metadata": {},
   "source": [
    "#### Fetching the Instagram and Twitter handle of Indian Actress \"Alia Bhatt\" from the TMDb API."
   ]
  },
  {
   "cell_type": "code",
   "execution_count": 10,
   "id": "802103fc",
   "metadata": {},
   "outputs": [
    {
     "name": "stdout",
     "output_type": "stream",
     "text": [
      "aliaabhatt Aliaa08\n"
     ]
    }
   ],
   "source": [
    "import requests\n",
    "import json\n",
    "#url='https://api.themoviedb.org/3/person/1108120'\n",
    "url='https://api.themoviedb.org/3/person/1108120/external_ids'\n",
    "data = {'api_key':'c00de043202cae9d9e2b23d857265b1c'}\n",
    "response = requests.get(url,params=data)\n",
    "#print(response.url)\n",
    "data=json.loads(response.text)\n",
    "print(data['instagram_id'],data['twitter_id'])"
   ]
  },
  {
   "cell_type": "markdown",
   "id": "92dc68f6",
   "metadata": {},
   "source": [
    "#### Fetching the names of the character played by Tom Cruise in the movies:\n",
    "Top Gun,\n",
    "Mission: Impossible - Fallout,\n",
    "Minority Report,\n",
    "Edge of Tomorrow."
   ]
  },
  {
   "cell_type": "code",
   "execution_count": 11,
   "id": "519af82c",
   "metadata": {},
   "outputs": [
    {
     "name": "stdout",
     "output_type": "stream",
     "text": [
      "Lt. Pete 'Maverick' Mitchell\n",
      "Ethan Hunt\n",
      "Chief John Anderton\n",
      "Maj. William 'Bill' Cage\n"
     ]
    }
   ],
   "source": [
    "import requests\n",
    "import json\n",
    "url='https://api.themoviedb.org/3/person/500/movie_credits'\n",
    "data = {'api_key':'c00de043202cae9d9e2b23d857265b1c'}\n",
    "response = requests.get(url,params=data)\n",
    "#print(response.url)\n",
    "data=json.loads(response.text)\n",
    "data1=data['cast']\n",
    "for i in data1:\n",
    "    if i['title']=='Top Gun':\n",
    "        print(i['character'])\n",
    "for i in data1:\n",
    "    if i['title']=='Mission: Impossible - Fallout':\n",
    "        print(i['character'])\n",
    "for i in data1:\n",
    "    if i['title']=='Minority Report':\n",
    "        print(i['character'])\n",
    "for i in data1:\n",
    "    if i['title']=='Edge of Tomorrow':\n",
    "        print(i['character'])"
   ]
  },
  {
   "cell_type": "markdown",
   "id": "0f63a431",
   "metadata": {},
   "source": [
    "#### Did James McAvoy play a role in the movie Deadpool 2."
   ]
  },
  {
   "cell_type": "code",
   "execution_count": 13,
   "id": "ecdab616",
   "metadata": {},
   "outputs": [
    {
     "name": "stdout",
     "output_type": "stream",
     "text": [
      "Yes\n"
     ]
    }
   ],
   "source": [
    "import requests\n",
    "import json\n",
    "url='https://api.themoviedb.org/3/person/5530/movie_credits'\n",
    "data = {'api_key':'c00de043202cae9d9e2b23d857265b1c'}\n",
    "response = requests.get(url,params=data)\n",
    "#print(response.url)\n",
    "data=json.loads(response.text)\n",
    "cast=data['cast']\n",
    "for i in cast:\n",
    "    if i['original_title']!='Deadpool 2':\n",
    "        pass\n",
    "    elif i['original_title']=='Deadpool 2':\n",
    "        print('Yes')\n",
    "    else:\n",
    "        print('No')"
   ]
  },
  {
   "cell_type": "markdown",
   "id": "4182424e",
   "metadata": {},
   "source": [
    "#### Fetching the overview of the TV Show \"FRIENDS\" using TMDb API."
   ]
  },
  {
   "cell_type": "code",
   "execution_count": 14,
   "id": "19cf00a0",
   "metadata": {},
   "outputs": [
    {
     "name": "stdout",
     "output_type": "stream",
     "text": [
      "Six young people from New York City, on their own and struggling to survive in the real world, find the companionship, comfort and support they get from each other to be the perfect antidote to the pressures of life.\n",
      "Friends is a short-lived kids-oriented drama that aired in the spring of 1979. The series, which was produced by Aaron Spelling and aired on ABC, starred Charlie Aiken, Jill Whelan, and Jarrod Johnson as three Southern Californian 11-year-olds. Karen Morrow also appeared. Only five one-hour episodes were produced before the series was cancelled.\n",
      "\n"
     ]
    }
   ],
   "source": [
    "import requests\n",
    "import requests\n",
    "api_key = \"e226f4a5f5bace766952aa0d17182959\"\n",
    "api_link = \"https://api.themoviedb.org/3\"\n",
    "params = {'query':\"Friends\" , 'api_key':api_key}\n",
    "header = {'Accept': 'application/json'}\n",
    "response = requests.get(api_link + \"/search/tv\", headers = header, params = params)\n",
    "data = response.json()\n",
    "results = data.get('results')\n",
    "for result in results:\n",
    "    if result.get('name') == 'Friends':\n",
    "        print(result.get('overview'))"
   ]
  },
  {
   "cell_type": "markdown",
   "id": "e4dea6c8",
   "metadata": {},
   "source": [
    "#### Fetching the name and air date of S06E05 of the TV Show 'The Big Bang Theory' from TMDb API."
   ]
  },
  {
   "cell_type": "code",
   "execution_count": 15,
   "id": "7ffffde1",
   "metadata": {},
   "outputs": [
    {
     "name": "stdout",
     "output_type": "stream",
     "text": [
      "The Holographic Excitation - 2012-10-25\n"
     ]
    }
   ],
   "source": [
    "import json\n",
    "url='https://api.themoviedb.org/3/tv/1418/season/06/episode/05'\n",
    "data = {'api_key':'c00de043202cae9d9e2b23d857265b1c'}\n",
    "response = requests.get(url,params=data)\n",
    "#print(response.url)\n",
    "data=json.loads(response.text)\n",
    "print(data['name'],'-',data['air_date'])"
   ]
  },
  {
   "cell_type": "markdown",
   "id": "a69f35db",
   "metadata": {},
   "source": [
    "#### Fetching  the trending TV Shows for the week from the TMDb API and print the taglines of the top 5 shows"
   ]
  },
  {
   "cell_type": "code",
   "execution_count": 16,
   "id": "1b331067",
   "metadata": {},
   "outputs": [
    {
     "name": "stdout",
     "output_type": "stream",
     "text": [
      "Who do you trust?\n",
      "Destiny is a beast.\n",
      "The future is bright\n",
      "The truth will surface.\n",
      "Empty\n"
     ]
    }
   ],
   "source": [
    "import requests\n",
    "import json\n",
    "api_link=\"https://api.themoviedb.org/3\" \n",
    "params = {'api_key':'c00de043202cae9d9e2b23d857265b1c'}\n",
    "header = {'Accept': 'application/json'} \n",
    "response = requests.get(api_link+\"/trending/tv/week\",params=params,headers=header)\n",
    "#print(response.url)\n",
    "data=response.json()\n",
    "results=data.get(\"results\")\n",
    "ids=[]\n",
    "for result in results[:5]:\n",
    "    ids.append(result.get('id'))\n",
    "\n",
    "for id in ids: \n",
    "    response2 = requests.get(api_link + \"/tv/\" + str(id) , headers = header, params = params) \n",
    "    data2 = response2.json() \n",
    "    if (data2.get(\"tagline\")) != \"\": \n",
    "        print(data2.get(\"tagline\")) \n",
    "    else: \n",
    "        print('Empty')\n"
   ]
  },
  {
   "cell_type": "markdown",
   "id": "fb8f00f1",
   "metadata": {},
   "source": [
    "#### Print the names of all the TV shows to be aired today whose original language is english."
   ]
  },
  {
   "cell_type": "code",
   "execution_count": 17,
   "id": "2bce7670",
   "metadata": {},
   "outputs": [
    {
     "name": "stdout",
     "output_type": "stream",
     "text": [
      "Love Island\n",
      "Naked News\n",
      "We Baby Bears\n",
      "Alice's Wonderland Bakery\n",
      "Kiff\n",
      "Casualty\n",
      "Pointless Celebrities\n",
      "The Kitchen\n",
      "Hamster & Gretel\n",
      "Later... with Jools Holland\n",
      "Marriage with Benefits\n",
      "Hailey's On It!\n",
      "Saturday Kitchen\n",
      "Love & Marriage Huntsville\n",
      "The Angry Video Game Nerd\n",
      "Concordia\n",
      "New York Homicide\n",
      "Extraordinary Birder with Christian Cooper\n",
      "All Elite Wrestling: Collision\n",
      "Symon's Dinners Cooking Out\n",
      "Act Your Age\n",
      "Flip This House\n",
      "Chibi Tiny Tales\n",
      "Build It Forward\n",
      "Solid Archery Mechanics\n",
      "Combate Global\n",
      "Earth Odyssey with Dylan Dreyer\n",
      "The Hit List\n"
     ]
    }
   ],
   "source": [
    "import requests\n",
    "import json\n",
    "url='https://api.themoviedb.org/3/tv/airing_today'\n",
    "data = {'api_key':'c00de043202cae9d9e2b23d857265b1c','page':'1'}\n",
    "response = requests.get(url,params=data)\n",
    "#print(response.url)\n",
    "data=json.loads(response.text)\n",
    "data_arr=data['results']\n",
    "response_len=len(data['results'])\n",
    "\n",
    "i=2\n",
    "while response_len==20:\n",
    "    data={'api_key':'c00de043202cae9d9e2b23d857265b1c','page':i}\n",
    "    res_1=requests.get(url,params=data)\n",
    "    d=res_1.json()\n",
    "    response_len=len(d['results'])\n",
    "    data_arr.extend(d['results'])\n",
    "    i+=1\n",
    "\n",
    "count=0\n",
    "for i in data_arr:\n",
    "    if i['original_language']=='en':\n",
    "        count+=1\n",
    "        print(i['name'])"
   ]
  },
  {
   "cell_type": "markdown",
   "id": "775f2b5b",
   "metadata": {},
   "source": [
    "#### Count the number of males and females in the cast of \"Money Heist\"."
   ]
  },
  {
   "cell_type": "code",
   "execution_count": 18,
   "id": "02a42398",
   "metadata": {},
   "outputs": [
    {
     "name": "stdout",
     "output_type": "stream",
     "text": [
      "10 5\n"
     ]
    }
   ],
   "source": [
    "import requests\n",
    "import json\n",
    "url='https://api.themoviedb.org/3/tv/71446/credits'\n",
    "data = {'api_key':'c00de043202cae9d9e2b23d857265b1c'}\n",
    "response = requests.get(url,params=data)\n",
    "#print(response.url)\n",
    "data=json.loads(response.text)\n",
    "male=0\n",
    "female=0\n",
    "cast=data['cast']\n",
    "for i in cast:\n",
    "     if i['gender']==2:\n",
    "        male=male+1\n",
    "     elif i['gender']==1:\n",
    "        female=female+1\n",
    "        \n",
    "print(male,female)"
   ]
  }
 ],
 "metadata": {
  "kernelspec": {
   "display_name": "Python 3 (ipykernel)",
   "language": "python",
   "name": "python3"
  },
  "language_info": {
   "codemirror_mode": {
    "name": "ipython",
    "version": 3
   },
   "file_extension": ".py",
   "mimetype": "text/x-python",
   "name": "python",
   "nbconvert_exporter": "python",
   "pygments_lexer": "ipython3",
   "version": "3.9.12"
  }
 },
 "nbformat": 4,
 "nbformat_minor": 5
}
